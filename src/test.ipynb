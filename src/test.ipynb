{
 "cells": [
  {
   "cell_type": "code",
   "execution_count": 41,
   "outputs": [
    {
     "name": "stdout",
     "output_type": "stream",
     "text": [
      "5\n",
      "time out and reset the time\n",
      "5\n",
      "time out and reset the time\n"
     ]
    },
    {
     "ename": "KeyboardInterrupt",
     "evalue": "",
     "output_type": "error",
     "traceback": [
      "\u001B[0;31m---------------------------------------------------------------------------\u001B[0m",
      "\u001B[0;31mKeyboardInterrupt\u001B[0m                         Traceback (most recent call last)",
      "Cell \u001B[0;32mIn[41], line 39\u001B[0m\n\u001B[1;32m     37\u001B[0m \u001B[38;5;28;01mwhile\u001B[39;00m \u001B[38;5;28;01mTrue\u001B[39;00m:\n\u001B[1;32m     38\u001B[0m     connection[\u001B[38;5;241m1\u001B[39m]\u001B[38;5;241m.\u001B[39mis_time_out()\n\u001B[0;32m---> 39\u001B[0m     \u001B[43mconnection\u001B[49m\u001B[43m[\u001B[49m\u001B[38;5;241;43m2\u001B[39;49m\u001B[43m]\u001B[49m\u001B[38;5;241;43m.\u001B[39;49m\u001B[43mis_time_out\u001B[49m\u001B[43m(\u001B[49m\u001B[43m)\u001B[49m\n",
      "Cell \u001B[0;32mIn[41], line 20\u001B[0m, in \u001B[0;36mSession.is_time_out\u001B[0;34m(self)\u001B[0m\n\u001B[1;32m     19\u001B[0m \u001B[38;5;28;01mdef\u001B[39;00m \u001B[38;5;21mis_time_out\u001B[39m(\u001B[38;5;28mself\u001B[39m):\n\u001B[0;32m---> 20\u001B[0m     \u001B[38;5;28;01mif\u001B[39;00m(\u001B[43mtime\u001B[49m\u001B[38;5;241;43m.\u001B[39;49m\u001B[43mtime\u001B[49m\u001B[43m(\u001B[49m\u001B[43m)\u001B[49m\u001B[38;5;241;43m-\u001B[39;49m\u001B[38;5;28;43mself\u001B[39;49m\u001B[38;5;241;43m.\u001B[39;49m\u001B[43mstart_time\u001B[49m\u001B[38;5;241;43m>\u001B[39;49m\u001B[38;5;28;43mself\u001B[39;49m\u001B[38;5;241;43m.\u001B[39;49m\u001B[43mlimit_time\u001B[49m):\n\u001B[1;32m     21\u001B[0m         \u001B[38;5;28mprint\u001B[39m(\u001B[38;5;28mself\u001B[39m\u001B[38;5;241m.\u001B[39mlimit_time)\n\u001B[1;32m     22\u001B[0m         \u001B[38;5;28mprint\u001B[39m(\u001B[38;5;124m\"\u001B[39m\u001B[38;5;124mtime out and reset the time\u001B[39m\u001B[38;5;124m\"\u001B[39m)\n",
      "\u001B[0;31mKeyboardInterrupt\u001B[0m: "
     ]
    }
   ],
   "source": [
    "\n",
    "import time\n",
    "\n",
    "\n",
    "class Session():\n",
    "    def __init__(self,chunk_hash,from_addr,limit_time):\n",
    "        self.chunk_hash=chunk_hash\n",
    "        self.from_addr=from_addr\n",
    "        self.start_time = 0\n",
    "        self.limit_time = limit_time\n",
    "        self.cwnd = 1\n",
    "        self.ssthresh = 64\n",
    "        self.dupAck = 0\n",
    "\n",
    "    #每一次sender 发送data 启动\n",
    "    def startTime(self):\n",
    "        self.start_time = time.time()\n",
    "\n",
    "    #每一次time_out 则进行重新传\n",
    "    def is_time_out(self):\n",
    "        if(time.time()-self.start_time>self.limit_time):\n",
    "            print(self.limit_time)\n",
    "            print(\"time out and reset the time\")\n",
    "            self.start_time = time.time()\n",
    "\n",
    "\n",
    "\n",
    "connection = dict()\n",
    "connection[1] = Session(1,1,5)\n",
    "connection[2] = Session(2,1,5)\n",
    "\n",
    "\n",
    "\n",
    "connection[1].startTime()\n",
    "connection[2].startTime()\n",
    "\n",
    "while True:\n",
    "    connection[1].is_time_out()\n",
    "    connection[2].is_time_out()\n",
    "\n",
    "\n",
    "#整一个观察者模式的可以的"
   ],
   "metadata": {
    "collapsed": false
   }
  },
  {
   "cell_type": "code",
   "execution_count": 42,
   "outputs": [
    {
     "data": {
      "text/plain": "1"
     },
     "execution_count": 42,
     "metadata": {},
     "output_type": "execute_result"
    }
   ],
   "source": [
    "#简化模式\n"
   ],
   "metadata": {
    "collapsed": false
   }
  },
  {
   "cell_type": "code",
   "execution_count": 55,
   "outputs": [
    {
     "data": {
      "text/plain": "[<matplotlib.lines.Line2D at 0x7fbc294b1e20>]"
     },
     "execution_count": 55,
     "metadata": {},
     "output_type": "execute_result"
    },
    {
     "data": {
      "text/plain": "<Figure size 640x480 with 1 Axes>",
      "image/png": "[encoded data removed]"
     },
     "metadata": {},
     "output_type": "display_data"
    }
   ],
   "source": [
    "#自适应性计算时间法\n",
    "#EstimateRTT 已知\n",
    "#simple RTT 刚计算,通过sender中的recive ack 这个ack应该是指定的（待会再看）\n",
    "\n",
    "DevRTT = 0\n",
    "EstimateRTT = 0\n",
    "Timeout = 0\n",
    "\n",
    "list1 = []\n",
    "list2 = []\n",
    "list3 = []\n",
    "\n",
    "list1.append(EstimateRTT)\n",
    "list2.append(DevRTT)\n",
    "list3.append(Timeout)\n",
    "\n",
    "\n",
    "#这个4应该是有问题吧\n",
    "def adapterTimeout(DevRTT,EstimateRTT,simpleRTT):\n",
    "    newEstimateRTT  = 0.125*EstimateRTT+0.875*simpleRTT\n",
    "    newDevRTT = 0.25*DevRTT+0.75*abs(simpleRTT-EstimateRTT)\n",
    "    newTimeOut =newEstimateRTT+4*newDevRTT\n",
    "    return newEstimateRTT,newDevRTT,newTimeOut\n",
    "\n",
    "for _ in range(10):\n",
    "    # global EstimateRTT\n",
    "    # global DevRTT\n",
    "    # global Timeout\n",
    "    EstimateRTT,DevRTT,Timeout = adapterTimeout(DevRTT,EstimateRTT,3)\n",
    "\n",
    "    list1.append(EstimateRTT)\n",
    "    list2.append(DevRTT)\n",
    "    list3.append(Timeout)\n",
    "\n",
    "plt.plot(range(11),list1)\n",
    "# plt.plot(range(11),list2)\n",
    "plt.plot(range(11),list3)\n",
    "\n",
    "\n",
    "\n",
    "#这个timeout有两种机制\n",
    "\n"
   ],
   "metadata": {
    "collapsed": false
   }
  },
  {
   "cell_type": "code",
   "execution_count": 39,
   "outputs": [],
   "source": [
    "\n",
    "model = Session(1,1,30)\n",
    "model.startTime()\n",
    "\n",
    "\n",
    "\n"
   ],
   "metadata": {
    "collapsed": false
   }
  },
  {
   "cell_type": "code",
   "execution_count": 22,
   "outputs": [
    {
     "name": "stdout",
     "output_type": "stream",
     "text": [
      "第 0 轮： ，拥塞窗口大小： 1\n",
      "第 1 轮： ，拥塞窗口大小： 2\n",
      "第 2 轮： ，拥塞窗口大小： 4\n"
     ]
    },
    {
     "name": "stderr",
     "output_type": "stream",
     "text": [
      "/Users/zhuhe/opt/anaconda3/envs/CSNetwork/lib/python3.8/site-packages/IPython/core/pylabtools.py:152: UserWarning: Glyph 20256 (\\N{CJK UNIFIED IDEOGRAPH-4F20}) missing from current font.\n",
      "  fig.canvas.print_figure(bytes_io, **kw)\n",
      "/Users/zhuhe/opt/anaconda3/envs/CSNetwork/lib/python3.8/site-packages/IPython/core/pylabtools.py:152: UserWarning: Glyph 36755 (\\N{CJK UNIFIED IDEOGRAPH-8F93}) missing from current font.\n",
      "  fig.canvas.print_figure(bytes_io, **kw)\n",
      "/Users/zhuhe/opt/anaconda3/envs/CSNetwork/lib/python3.8/site-packages/IPython/core/pylabtools.py:152: UserWarning: Glyph 27425 (\\N{CJK UNIFIED IDEOGRAPH-6B21}) missing from current font.\n",
      "  fig.canvas.print_figure(bytes_io, **kw)\n",
      "/Users/zhuhe/opt/anaconda3/envs/CSNetwork/lib/python3.8/site-packages/IPython/core/pylabtools.py:152: UserWarning: Glyph 25968 (\\N{CJK UNIFIED IDEOGRAPH-6570}) missing from current font.\n",
      "  fig.canvas.print_figure(bytes_io, **kw)\n",
      "/Users/zhuhe/opt/anaconda3/envs/CSNetwork/lib/python3.8/site-packages/IPython/core/pylabtools.py:152: UserWarning: Glyph 25317 (\\N{CJK UNIFIED IDEOGRAPH-62E5}) missing from current font.\n",
      "  fig.canvas.print_figure(bytes_io, **kw)\n",
      "/Users/zhuhe/opt/anaconda3/envs/CSNetwork/lib/python3.8/site-packages/IPython/core/pylabtools.py:152: UserWarning: Glyph 22622 (\\N{CJK UNIFIED IDEOGRAPH-585E}) missing from current font.\n",
      "  fig.canvas.print_figure(bytes_io, **kw)\n",
      "/Users/zhuhe/opt/anaconda3/envs/CSNetwork/lib/python3.8/site-packages/IPython/core/pylabtools.py:152: UserWarning: Glyph 31383 (\\N{CJK UNIFIED IDEOGRAPH-7A97}) missing from current font.\n",
      "  fig.canvas.print_figure(bytes_io, **kw)\n",
      "/Users/zhuhe/opt/anaconda3/envs/CSNetwork/lib/python3.8/site-packages/IPython/core/pylabtools.py:152: UserWarning: Glyph 21475 (\\N{CJK UNIFIED IDEOGRAPH-53E3}) missing from current font.\n",
      "  fig.canvas.print_figure(bytes_io, **kw)\n"
     ]
    },
    {
     "data": {
      "text/plain": "<Figure size 640x480 with 1 Axes>",
      "image/png": "[encoded data removed]"
     },
     "metadata": {},
     "output_type": "display_data"
    }
   ],
   "source": [
    "import numpy as np\n",
    "from matplotlib import pyplot as plt\n",
    "\n",
    "\n",
    "#程序输入-------\n",
    "\n",
    "'''测试数据\n",
    "1\n",
    "16\n",
    "12\n",
    "-1\n",
    "22\n",
    "\n",
    "1\n",
    "16\n",
    "12\n",
    "21\n",
    "26\n",
    "'''\n",
    "\n",
    "cwin = eval(input('请输入初始拥塞窗口大小：')) #拥塞窗口\n",
    "ssthresh = eval(input('请输入初始阈值大小：')) #初始阈值\n",
    "\n",
    "#是否超时 >0-True  -1-False\n",
    "ifTimeoutRoundIndex = eval(input('请输入超时发生时的传输轮次（没有则输-1）：')) #超时发生时的传输轮次\n",
    "\n",
    "#是否重传 >0-True  -1-False\n",
    "ifReTransmissionRoundIndex = eval(input('请输入重传发生时的传输轮次（没有则输-1）：')) #重传发生时的传输轮次\n",
    "\n",
    "roundCount = eval(input(\"请输入传输轮次：\")) #传输轮次\n",
    "\n",
    "\n",
    "#算法----------\n",
    "\n",
    "listXResult = [] #后期绘图用的x坐标集（此处直接用roundCount算出也可以）\n",
    "listYResult = [] #后期绘图用的y坐标集\n",
    "\n",
    "\n",
    "for roundIndex in range(roundCount):\n",
    "    print(\"第\", roundIndex, \"轮：\", \"，拥塞窗口大小：\", cwin)\n",
    "\n",
    "    #图：收集x, y坐标\n",
    "    listXResult.append(roundIndex)\n",
    "    listYResult.append(cwin)\n",
    "\n",
    "    #先判断，是否超时或重传------------\n",
    "\n",
    "    #---若超时--->转-慢开始\n",
    "    if (roundIndex == ifTimeoutRoundIndex):\n",
    "        ssthresh = cwin // 2\n",
    "        cwin = 1\n",
    "        continue\n",
    "    #---若重传--->转-快重传\n",
    "    if (roundIndex == ifReTransmissionRoundIndex):\n",
    "        ssthresh = cwin // 2\n",
    "        cwin = ssthresh\n",
    "    #--------------------------------\n",
    "\n",
    "    #+++++++慢开始\n",
    "    #【拥塞窗口 < 初始阈值】\n",
    "    if (cwin < ssthresh):\n",
    "        cwin *= 2\n",
    "        #避免因x2而越界\n",
    "        if (cwin > ssthresh):\n",
    "            cwin = ssthresh\n",
    "\n",
    "    #+++++++拥塞避免\n",
    "    #【拥塞窗口 > 初始阈值 且 当前轮次 < 超时发生时的传输轮次】\n",
    "    elif (cwin >= ssthresh):\n",
    "        cwin += 1\n",
    "\n",
    "\n",
    "\n",
    "#程序输出-------\n",
    "# print(\"----------------------------------\")\n",
    "# print(listXResult)\n",
    "# print(listYResult)\n",
    "\n",
    "plt.xlabel(\"传输次数 roundIndex\")\n",
    "plt.ylabel(\"拥塞窗口 cwin\")\n",
    "plt.plot(listXResult, listYResult, 'r')\n",
    "plt.grid()#添加网格\n",
    "plt.show()\n",
    "\n",
    "\n"
   ],
   "metadata": {
    "collapsed": false
   }
  },
  {
   "cell_type": "code",
   "execution_count": 2,
   "outputs": [],
   "source": [
    "class Student(object):\n",
    "\n",
    "    def __init__(self, name, score):\n",
    "        self.name = name\n",
    "        self.score = score"
   ],
   "metadata": {
    "collapsed": false
   }
  },
  {
   "cell_type": "code",
   "execution_count": 3,
   "outputs": [
    {
     "data": {
      "text/plain": "'Bart Simpson'"
     },
     "execution_count": 3,
     "metadata": {},
     "output_type": "execute_result"
    }
   ],
   "source": [
    "bart = Student('Bart Simpson', 59)\n",
    "bart.name"
   ],
   "metadata": {
    "collapsed": false
   }
  },
  {
   "cell_type": "code",
   "execution_count": 1,
   "outputs": [],
   "source": [
    "a ={}\n",
    "a[1] = 2\n",
    "a['a'] = 3"
   ],
   "metadata": {
    "collapsed": false
   }
  },
  {
   "cell_type": "code",
   "execution_count": 2,
   "outputs": [],
   "source": [
    "b ={}\n",
    "b[1] = 2\n",
    "b['a'] = 3"
   ],
   "metadata": {
    "collapsed": false
   }
  },
  {
   "cell_type": "code",
   "execution_count": 6,
   "outputs": [
    {
     "data": {
      "text/plain": "[1, 'a', 1, 'a']"
     },
     "execution_count": 6,
     "metadata": {},
     "output_type": "execute_result"
    }
   ],
   "source": [
    "list(a.keys())+list(b.keys())"
   ],
   "metadata": {
    "collapsed": false
   }
  },
  {
   "cell_type": "code",
   "execution_count": 7,
   "outputs": [
    {
     "data": {
      "text/plain": "[]"
     },
     "execution_count": 7,
     "metadata": {},
     "output_type": "execute_result"
    }
   ],
   "source": [
    "recv_table = dict()\n",
    "[recv_table[i].from_peer for i in recv_table.keys()]\n"
   ],
   "metadata": {
    "collapsed": false
   }
  },
  {
   "cell_type": "code",
   "execution_count": null,
   "outputs": [],
   "source": [
    "recv_table = dict()\n",
    "\n",
    "\n",
    "class RecvSession:\n",
    "    def __init__(self,sock,chunkhash):\n",
    "        #这个表示已经接收到了什么\n",
    "        self.acc_seq = 0\n",
    "        self.start_time = 0\n",
    "        self.crash_time =5\n",
    "        self.sock =sock\n",
    "        self.chunkhash =chunkhash\n",
    "\n",
    "\n",
    "        #dict\n",
    "    def startTime(self):\n",
    "        self.start_time = time.time()\n",
    "\n",
    "\n",
    "    #f\n",
    "    def is_time_out(self):\n",
    "        if(time.time()-self.start_time>self.crash_time):\n",
    "\n",
    "            send_Whohas(self.sock)\n",
    "            recv_table.pop(self.chunk_hash)\n",
    "            self.startTime()"
   ],
   "metadata": {
    "collapsed": false
   }
  }
 ],
 "metadata": {
  "kernelspec": {
   "display_name": "Python 3",
   "language": "python",
   "name": "python3"
  },
  "language_info": {
   "codemirror_mode": {
    "name": "ipython",
    "version": 2
   },
   "file_extension": ".py",
   "mimetype": "text/x-python",
   "name": "python",
   "nbconvert_exporter": "python",
   "pygments_lexer": "ipython2",
   "version": "2.7.6"
  }
 },
 "nbformat": 4,
 "nbformat_minor": 0
}
