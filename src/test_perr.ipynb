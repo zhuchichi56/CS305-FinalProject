{
 "cells": [
  {
   "cell_type": "code",
   "execution_count": null,
   "metadata": {
    "collapsed": true
   },
   "outputs": [],
   "source": [
    "import sys\n",
    "import os\n",
    "\n",
    "sys.path.append(os.path.join(os.path.dirname(__file__), \"..\"))\n",
    "import select\n",
    "import util.simsocket as simsocket\n",
    "import struct\n",
    "import socket\n",
    "import util.bt_utils as bt_utils\n",
    "import hashlib\n",
    "import argparse\n",
    "import pickle\n",
    "import time\n",
    "import logging\n",
    "import matplotlib.pyplot as plt\n",
    "\n",
    "if __name__ == '__main__':\n",
    "    \"\"\"\n",
    "    -p: Peer list file, it will be in the form \"*.map\" like nodes.map.\n",
    "    -c: Chunkfile, a dictionary dumped by pickle. It will be loaded automatically in bt_utils. The loaded dictionary has the form: {chunkhash: chunkdata}\n",
    "    -m: The max number of peer that you can send chunk to concurrently. If more peers ask you for chunks, you should reply \"DENIED\"\n",
    "    -i: ID, it is the index in nodes.map\n",
    "    -v: verbose level for printing logs to stdout, 0 for no verbose, 1 for WARNING level, 2 for INFO, 3 for DEBUG.\n",
    "    -t: pre-defined timeout. If it is not set, you should estimate timeout via RTT. If it is set, you should not change this time out.\n",
    "        The timeout will be set when running test scripts. PLEASE do not change timeout if it set.\n",
    "    \"\"\"\n",
    "    parser = argparse.ArgumentParser()\n",
    "    parser.add_argument('-p', type=str, help='<peerfile>     The list of all peers', default='nodes.map')\n",
    "    parser.add_argument('-c', type=str, help='<chunkfile>    Pickle dumped dictionary {chunkhash: chunkdata}')\n",
    "    parser.add_argument('-m', type=int, help='<maxconn>      Max # of concurrent sending')\n",
    "    parser.add_argument('-i', type=int, help='<identity>     Which peer # am I?')\n",
    "    parser.add_argument('-v', type=int, help='verbose level', default=0)\n",
    "    parser.add_argument('-t', type=int, help=\"pre-defined timeout\", default=0)\n",
    "    args = parser.parse_args()\n",
    "\n",
    "    config = bt_utils.BtConfig(args)\n",
    "    # peer_run(config)"
   ]
  }
 ],
 "metadata": {
  "kernelspec": {
   "display_name": "Python 3",
   "language": "python",
   "name": "python3"
  },
  "language_info": {
   "codemirror_mode": {
    "name": "ipython",
    "version": 2
   },
   "file_extension": ".py",
   "mimetype": "text/x-python",
   "name": "python",
   "nbconvert_exporter": "python",
   "pygments_lexer": "ipython2",
   "version": "2.7.6"
  }
 },
 "nbformat": 4,
 "nbformat_minor": 0
}
