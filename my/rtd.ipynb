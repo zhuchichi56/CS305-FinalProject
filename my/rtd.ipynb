{
 "cells": [
  {
   "cell_type": "code",
   "execution_count": 7,
   "metadata": {
    "collapsed": true
   },
   "outputs": [
    {
     "name": "stdout",
     "output_type": "stream",
     "text": [
      "5\n",
      "time out and reset the time\n",
      "5\n",
      "time out and reset the time\n",
      "5\n",
      "time out and reset the time\n",
      "5\n",
      "time out and reset the time\n",
      "5\n",
      "time out and reset the time\n",
      "5\n",
      "time out and reset the time\n",
      "5\n",
      "time out and reset the time\n",
      "5\n",
      "time out and reset the time\n",
      "5\n",
      "time out and reset the time\n",
      "5\n",
      "time out and reset the time\n",
      "5\n",
      "time out and reset the time\n",
      "5\n",
      "time out and reset the time\n"
     ]
    },
    {
     "ename": "KeyboardInterrupt",
     "evalue": "",
     "output_type": "error",
     "traceback": [
      "\u001B[0;31m---------------------------------------------------------------------------\u001B[0m",
      "\u001B[0;31mKeyboardInterrupt\u001B[0m                         Traceback (most recent call last)",
      "Cell \u001B[0;32mIn[7], line 39\u001B[0m\n\u001B[1;32m     37\u001B[0m \u001B[38;5;28;01mwhile\u001B[39;00m \u001B[38;5;28;01mTrue\u001B[39;00m:\n\u001B[1;32m     38\u001B[0m     connection[\u001B[38;5;241m1\u001B[39m]\u001B[38;5;241m.\u001B[39mis_time_out()\n\u001B[0;32m---> 39\u001B[0m     \u001B[43mconnection\u001B[49m\u001B[43m[\u001B[49m\u001B[38;5;241;43m2\u001B[39;49m\u001B[43m]\u001B[49m\u001B[38;5;241;43m.\u001B[39;49m\u001B[43mis_time_out\u001B[49m\u001B[43m(\u001B[49m\u001B[43m)\u001B[49m\n\u001B[1;32m     42\u001B[0m \u001B[38;5;66;03m#整一个观察者模式的可以的\u001B[39;00m\n",
      "Cell \u001B[0;32mIn[7], line 21\u001B[0m, in \u001B[0;36mSession.is_time_out\u001B[0;34m(self)\u001B[0m\n\u001B[1;32m     20\u001B[0m \u001B[38;5;28;01mdef\u001B[39;00m \u001B[38;5;21mis_time_out\u001B[39m(\u001B[38;5;28mself\u001B[39m):\n\u001B[0;32m---> 21\u001B[0m     \u001B[38;5;28;01mif\u001B[39;00m(\u001B[43mtime\u001B[49m\u001B[38;5;241;43m.\u001B[39;49m\u001B[43mtime\u001B[49m\u001B[43m(\u001B[49m\u001B[43m)\u001B[49m\u001B[38;5;241;43m-\u001B[39;49m\u001B[38;5;28;43mself\u001B[39;49m\u001B[38;5;241;43m.\u001B[39;49m\u001B[43mstart_time\u001B[49m\u001B[38;5;241;43m>\u001B[39;49m\u001B[38;5;28;43mself\u001B[39;49m\u001B[38;5;241;43m.\u001B[39;49m\u001B[43mlimit_time\u001B[49m):\n\u001B[1;32m     22\u001B[0m         \u001B[38;5;28mprint\u001B[39m(\u001B[38;5;28mself\u001B[39m\u001B[38;5;241m.\u001B[39mlimit_time)\n\u001B[1;32m     23\u001B[0m         \u001B[38;5;28mprint\u001B[39m(\u001B[38;5;124m\"\u001B[39m\u001B[38;5;124mtime out and reset the time\u001B[39m\u001B[38;5;124m\"\u001B[39m)\n",
      "\u001B[0;31mKeyboardInterrupt\u001B[0m: "
     ]
    }
   ],
   "source": [
    "\n",
    "import time\n",
    "from typing import Type\n",
    "\n",
    "\n",
    "class Session():\n",
    "    def __init__(self,chunk_hash,from_addr,limit_time):\n",
    "        self.chunk_hash=chunk_hash\n",
    "        self.from_addr=from_addr\n",
    "        self.start_time = 0\n",
    "        self.limit_time = limit_time\n",
    "        self.cwnd = 1\n",
    "        self.ssthresh = 64\n",
    "        self.dupAck = 0\n",
    "\n",
    "    #每一次sender 发送data 启动\n",
    "    def startTime(self):\n",
    "        self.start_time = time.time()\n",
    "\n",
    "    #每一次time_out 则进行重新传\n",
    "    def is_time_out(self):\n",
    "        if(time.time()-self.start_time>self.limit_time):\n",
    "            print(self.limit_time)\n",
    "            print(\"time out and reset the time\")\n",
    "            self.start_time = time.time()\n",
    "\n",
    "\n",
    "\n",
    "connection = dict()\n",
    "connection[1] = Session(1,1,5)\n",
    "connection[2] = Session(2,1,5)\n",
    "\n",
    "\n",
    "\n",
    "connection[1].startTime()\n",
    "connection[2].startTime()\n",
    "\n",
    "while True:\n",
    "    connection[1].is_time_out()\n",
    "    connection[2].is_time_out()\n",
    "\n",
    "\n",
    "#整一个观察者模式的可以的\n",
    "\n",
    "\n",
    "\n"
   ]
  },
  {
   "cell_type": "code",
   "execution_count": null,
   "outputs": [],
   "source": [
    "#这个可靠传输挺恶心的,就两个能做到可靠传输吗\n",
    "connection[1].limit_time = 10"
   ],
   "metadata": {
    "collapsed": false
   }
  },
  {
   "cell_type": "code",
   "execution_count": 6,
   "outputs": [
    {
     "name": "stdout",
     "output_type": "stream",
     "text": [
      "dict_keys([1, 2])\n",
      "dict_keys([])\n"
     ]
    }
   ],
   "source": [
    "a =dict()\n",
    "a[1] =2\n",
    "a[2] = 3\n",
    "\n",
    "print(a.keys())\n",
    "a.clear()\n",
    "print(a.keys())"
   ],
   "metadata": {
    "collapsed": false
   }
  },
  {
   "cell_type": "code",
   "execution_count": null,
   "outputs": [],
   "source": [
    "#尝试自己实现一个?\n",
    "class peer():\n",
    "    def __init__(self):\n",
    "        self.data= range(0,100)\n",
    "        # self.packet_lenght = 5\n",
    "        #一次只能发送4个包吧\n",
    "        self.frontier = 5\n",
    "        self.back = 0\n",
    "\n",
    "    #什么时候能接收到呢?\n",
    "\n",
    "    def tramsmit(self):\n",
    "        for i in range(self.frontier-self.back):\n",
    "            self.send(i)\n",
    "\n",
    "    def send(self,i):\n",
    "        print(i)\n",
    "\n",
    "    #收到了ack1,证明全部接受了\n",
    "    def moveback(self,i):\n",
    "        self.frontier = self.frontier-self.back + i\n",
    "        self.back = i\n",
    "\n",
    "\n",
    "\n"
   ],
   "metadata": {
    "collapsed": false
   }
  },
  {
   "cell_type": "code",
   "execution_count": 14,
   "outputs": [
    {
     "name": "stdout",
     "output_type": "stream",
     "text": [
      "b'\\xccQ#\\x03\\x008\\x04$\\x00\\x00\\x00\\x01\\x00\\x00\\x00\\x00\\x00\\x00\\x00\\x00\\x00\\x00\\x00\\x00\\x00\\x00\\x00\\x00\\x00\\x00\\x00\\x00\\x00\\x00\\x00\\x00'\n"
     ]
    },
    {
     "data": {
      "text/plain": "(52305,\n 35,\n 3,\n 56,\n 1060,\n 1,\n 0,\n b'\\x00\\x00\\x00\\x00\\x00\\x00\\x00\\x00\\x00\\x00\\x00\\x00\\x00\\x00\\x00\\x00\\x00\\x00\\x00\\x00')"
     },
     "execution_count": 14,
     "metadata": {},
     "output_type": "execute_result"
    }
   ],
   "source": [
    "import struct\n",
    "data_header = struct.pack(\"!HBBHHII20s\",\n",
    "                          52305,\n",
    "                          35,\n",
    "                          3,\n",
    "                          56,\n",
    "                          1060,\n",
    "                          1,\n",
    "                          0,\n",
    "                          bytes(20))\n",
    "\n",
    "#Magic, Team, Type,hlen, plen, Seq, Ack,chunk_hash_bytes= struct.unpack(\"!HBBHHII20s\", data_header)\n",
    "print(data_header)\n",
    "struct.unpack(\"!HBBHHII20s\", data_header)"
   ],
   "metadata": {
    "collapsed": false
   }
  },
  {
   "cell_type": "code",
   "execution_count": 15,
   "outputs": [],
   "source": [
    "#coding:utf-8\n",
    "__author__ = 'MsLili'\n",
    "#pickle模块主要函数的应用举例\n",
    "import pickle\n",
    "dataList = [[1, 1, 'yes'],\n",
    "            [1, 1, 'yes'],\n",
    "            [1, 0, 'no'],\n",
    "            [0, 1, 'no'],\n",
    "            [0, 1, 'no']]\n",
    "dataDic = { 0: [1, 2, 3, 4],\n",
    "            1: ('a', 'b'),\n",
    "            2: {'c':'yes','d':'no'}}\n",
    "\n",
    "\n",
    "#这个输出的是什么呢\n",
    "\n",
    "#使用dump()将数据序列化到文件中\n",
    "fw = open('dataFile.txt','wb')\n",
    "# Pickle the list using the highest protocol available.\n",
    "pickle.dump(dataList, fw, -1)\n",
    "# Pickle dictionary using protocol 0.\n",
    "pickle.dump(dataDic, fw)\n",
    "fw.close()\n",
    "\n",
    "#使用load()将数据从文件中序列化读出\n",
    "fr = open('dataFile.txt','rb')\n",
    "data1 = pickle.load(fr)\n",
    "print(data1)\n",
    "data2 = pickle.load(fr)\n",
    "print(data2)\n",
    "fr.close()\n",
    "\n",
    "#使用dumps()和loads()举例\n",
    "p = pickle.dumps(dataList)\n",
    "print( pickle.loads(p) )\n",
    "p = pickle.dumps(dataDic)\n",
    "print( pickle.loads(p) )"
   ],
   "metadata": {
    "collapsed": false
   }
  },
  {
   "cell_type": "code",
   "execution_count": 1,
   "outputs": [
    {
     "data": {
      "text/plain": "5"
     },
     "execution_count": 1,
     "metadata": {},
     "output_type": "execute_result"
    }
   ],
   "source": [
    "a = 11\n",
    "a//2\n"
   ],
   "metadata": {
    "collapsed": false
   }
  },
  {
   "cell_type": "code",
   "execution_count": null,
   "outputs": [],
   "source": [],
   "metadata": {
    "collapsed": false
   }
  }
 ],
 "metadata": {
  "kernelspec": {
   "display_name": "Python 3",
   "language": "python",
   "name": "python3"
  },
  "language_info": {
   "codemirror_mode": {
    "name": "ipython",
    "version": 2
   },
   "file_extension": ".py",
   "mimetype": "text/x-python",
   "name": "python",
   "nbconvert_exporter": "python",
   "pygments_lexer": "ipython2",
   "version": "2.7.6"
  }
 },
 "nbformat": 4,
 "nbformat_minor": 0
}
