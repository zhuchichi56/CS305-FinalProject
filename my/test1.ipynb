{
 "cells": [
  {
   "cell_type": "code",
   "execution_count": null,
   "metadata": {
    "collapsed": true
   },
   "outputs": [],
   "source": []
  },
  {
   "cell_type": "code",
   "execution_count": 8,
   "outputs": [],
   "source": [
    "import logging\n",
    "__file__ = \"/123\"\n",
    "logger = logging.getLogger(__file__)\n",
    "consoleHandler = logging.StreamHandler()\n",
    "consoleHandler.setLevel(logging.DEBUG)\n",
    "formatter = logging.Formatter('[%(asctime)s] {%(filename)s:%(lineno)d} %(levelname)s - %(message)s', datefmt='%Y-%m-%d %H:%M:%S')\n",
    "consoleHandler.setFormatter(formatter)\n",
    "logger.addHandler(consoleHandler)\n",
    "logger.info(\"test\")"
   ],
   "metadata": {
    "collapsed": false
   }
  },
  {
   "cell_type": "code",
   "execution_count": 15,
   "outputs": [],
   "source": [
    "import os\n",
    "\n",
    "winsize_logger = logging.getLogger(\"WinSize-LOGGER\")\n",
    "winsize_logger.setLevel(logging.DEBUG)\n",
    "formatter = logging.Formatter(fmt=\"%(relativeCreated)d - %(message)s\")\n",
    "\n",
    "# check log dir\n",
    "log_dir = \"log\"\n",
    "if not os.path.exists(log_dir):\n",
    "    os.makedirs(log_dir)\n",
    "fh = logging.FileHandler(filename=os.path.join(log_dir, \"winsize.log\"), mode=\"w\")\n",
    "fh.setLevel(level=logging.DEBUG)\n",
    "fh.setFormatter(formatter)\n",
    "winsize_logger.addHandler(fh)\n",
    "winsize_logger.info(\"Winsize\")\n",
    "winsize_logger.debug(\"nihao\")\n",
    "winsize_logger.debug(\"nihao\")\n",
    "winsize_logger.debug(\"nihao\")\n",
    "winsize_logger.warning(\"dafsf\")\n",
    "\n"
   ],
   "metadata": {
    "collapsed": false
   }
  },
  {
   "cell_type": "code",
   "execution_count": null,
   "outputs": [],
   "source": [],
   "metadata": {
    "collapsed": false
   }
  }
 ],
 "metadata": {
  "kernelspec": {
   "display_name": "Python 3",
   "language": "python",
   "name": "python3"
  },
  "language_info": {
   "codemirror_mode": {
    "name": "ipython",
    "version": 2
   },
   "file_extension": ".py",
   "mimetype": "text/x-python",
   "name": "python",
   "nbconvert_exporter": "python",
   "pygments_lexer": "ipython2",
   "version": "2.7.6"
  }
 },
 "nbformat": 4,
 "nbformat_minor": 0
}
