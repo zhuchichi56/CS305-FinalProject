{
 "cells": [
  {
   "cell_type": "code",
   "execution_count": 24,
   "metadata": {
    "collapsed": true
   },
   "outputs": [
    {
     "name": "stdout",
     "output_type": "stream",
     "text": [
      "2\n"
     ]
    }
   ],
   "source": [
    "\n",
    "chunkfile = \"download.chunkhash\"\n",
    "\n",
    "\n",
    "require_chunk =  {}\n",
    "\n",
    "def test():\n",
    "    global require_chunk\n",
    "    with open(chunkfile, 'r') as cf:\n",
    "        for line in cf:\n",
    "            _ = line.strip().split(\" \")\n",
    "            if(len(_)==2):\n",
    "                # ex_received_chunk[_[1]] = bytes()  #需要被处理的hash值\n",
    "                require_chunk[_[1]] = _[0]\n",
    "\n",
    "def test1():\n",
    "   print(len(require_chunk))\n",
    "test()\n",
    "test1()\n",
    "\n",
    "#\n",
    "# print(str(whohave_dict['3']))\n",
    "#\n",
    "# datahash = bytes.fromhex(whohave_dict['3'])\n",
    "# datahash+=bytes.fromhex(whohave_dict['4'])\n",
    "#\n",
    "# print(len(datahash[:80]))\n",
    "\n",
    "\n",
    "\n",
    "#如果宕机了能立刻重起吧\n",
    "\n",
    "\n",
    "\n",
    "\n",
    "#这个大致思想不懂啊\n",
    "\n",
    "# print(datahash)\n",
    "\n",
    "#"
   ]
  },
  {
   "cell_type": "code",
   "execution_count": 21,
   "outputs": [
    {
     "data": {
      "text/plain": "{'3b68110847941b84e8d05417a5b2609122a56314': '3',\n '4bec20891a68887eef982e9cda5d02ca8e6d4f57': '4'}"
     },
     "execution_count": 21,
     "metadata": {},
     "output_type": "execute_result"
    }
   ],
   "source": [
    "require_chunk"
   ],
   "metadata": {
    "collapsed": false
   }
  },
  {
   "cell_type": "code",
   "execution_count": 14,
   "outputs": [
    {
     "data": {
      "text/plain": "b';h\\x11\\x08G\\x94\\x1b\\x84\\xe8\\xd0T\\x17\\xa5\\xb2`\\x91\"\\xa5c\\x14'"
     },
     "execution_count": 14,
     "metadata": {},
     "output_type": "execute_result"
    }
   ],
   "source": [
    "import struct\n",
    "import socket\n",
    "ack_pkt = struct.pack(\"HBBHHII20s\",\n",
    "                      socket.htons(52305),35,\n",
    "                      4,\n",
    "                      socket.htons(20),\n",
    "                      socket.htons(20),\n",
    "                      0,\n",
    "                      1,\n",
    "                      datahash)\n",
    "ack_pkt\n",
    "\n",
    "HEADER_LEN = struct.calcsize(\"HBBHHII20s\")\n",
    "\n",
    "Magic, Team, Type,hlen, plen, Seq, Ack,chunk_hash= struct.unpack(\"HBBHHII20s\", ack_pkt[:HEADER_LEN])\n",
    "chunk_hash\n"
   ],
   "metadata": {
    "collapsed": false
   }
  },
  {
   "cell_type": "code",
   "execution_count": 33,
   "outputs": [
    {
     "data": {
      "text/plain": "{'a': 1, 'b': 3, 'c': 4}"
     },
     "execution_count": 33,
     "metadata": {},
     "output_type": "execute_result"
    }
   ],
   "source": [
    "a = {}\n",
    "a['a'] = 1\n",
    "a['b'] = 3\n",
    "a['c'] = 4\n"
   ],
   "metadata": {
    "collapsed": false
   }
  },
  {
   "cell_type": "code",
   "execution_count": 40,
   "outputs": [],
   "source": [
    "b = {}\n",
    "\n",
    "# b['b'] = 3\n",
    "# b['c'] = 4\n",
    "\n",
    "a  = set(a.keys())-set(b.keys())"
   ],
   "metadata": {
    "collapsed": false
   }
  },
  {
   "cell_type": "code",
   "execution_count": 50,
   "outputs": [],
   "source": [
    "a ={1,2,3}"
   ],
   "metadata": {
    "collapsed": false
   }
  },
  {
   "cell_type": "code",
   "execution_count": 51,
   "outputs": [],
   "source": [
    "b ={2,3}"
   ],
   "metadata": {
    "collapsed": false
   }
  },
  {
   "cell_type": "code",
   "execution_count": 53,
   "outputs": [
    {
     "name": "stdout",
     "output_type": "stream",
     "text": [
      "2\n"
     ]
    }
   ],
   "source": [
    "for i in b:\n",
    "    if i in a:\n",
    "        print(i)\n",
    "        break"
   ],
   "metadata": {
    "collapsed": false
   }
  },
  {
   "cell_type": "code",
   "execution_count": null,
   "outputs": [],
   "source": [],
   "metadata": {
    "collapsed": false
   }
  }
 ],
 "metadata": {
  "kernelspec": {
   "display_name": "Python 3",
   "language": "python",
   "name": "python3"
  },
  "language_info": {
   "codemirror_mode": {
    "name": "ipython",
    "version": 2
   },
   "file_extension": ".py",
   "mimetype": "text/x-python",
   "name": "python",
   "nbconvert_exporter": "python",
   "pygments_lexer": "ipython2",
   "version": "2.7.6"
  }
 },
 "nbformat": 4,
 "nbformat_minor": 0
}
